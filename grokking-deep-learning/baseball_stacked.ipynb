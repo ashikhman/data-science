{
 "cells": [
  {
   "cell_type": "code",
   "execution_count": 5,
   "outputs": [],
   "source": [
    "def w_sum(a, b):\n",
    "    assert(len(a) == len(b))\n",
    "\n",
    "    output = 0.0\n",
    "    for i in range(len(a)):\n",
    "        output += (a[i] * b[i])\n",
    "\n",
    "    return output\n",
    "\n",
    "def vect_mat_mul(vector, matrix):\n",
    "    output = [0, 0, 0]\n",
    "\n",
    "    for i in range(len(vector)):\n",
    "        output[i] += w_sum(vector, matrix[i])\n",
    "\n",
    "    return output\n",
    "\n",
    "def neural_network(input, weights):\n",
    "    hid = vect_mat_mul(input, weights[0])\n",
    "    pred = vect_mat_mul(hid, weights[1])\n",
    "\n",
    "    return pred"
   ],
   "metadata": {
    "collapsed": false,
    "pycharm": {
     "name": "#%%\n"
    }
   }
  },
  {
   "cell_type": "code",
   "execution_count": 6,
   "outputs": [
    {
     "data": {
      "text/plain": "[0.21350000000000002, 0.14500000000000002, 0.5065]"
     },
     "execution_count": 6,
     "metadata": {},
     "output_type": "execute_result"
    }
   ],
   "source": [
    "ih_wgt = [\n",
    "    # toes, win, fans\n",
    "    [0.1, 0.2, -0.1], # hid[0]\n",
    "    [-0.1, 0.1, 0.9], # hid[1]\n",
    "    [0.1, 0.4, 0.1], # hid[2]\n",
    "]\n",
    "\n",
    "hp_wgt = [\n",
    "    # hid[0], hid[1], hid[2]\n",
    "    [0.3, 1.1, -0.3], # hurt ?\n",
    "    [0.1, 0.2, 0.0], # win?\n",
    "    [0.0, 1.3, 0.1] # sad?\n",
    "]\n",
    "\n",
    "weights = [ih_wgt, hp_wgt]\n",
    "\n",
    "input = [8.5, 0.65, 1.2]\n",
    "\n",
    "pred = neural_network(input, weights)\n",
    "pred"
   ],
   "metadata": {
    "collapsed": false,
    "pycharm": {
     "name": "#%%\n"
    }
   }
  }
 ],
 "metadata": {
  "kernelspec": {
   "display_name": "Python 3",
   "language": "python",
   "name": "python3"
  },
  "language_info": {
   "codemirror_mode": {
    "name": "ipython",
    "version": 2
   },
   "file_extension": ".py",
   "mimetype": "text/x-python",
   "name": "python",
   "nbconvert_exporter": "python",
   "pygments_lexer": "ipython2",
   "version": "2.7.6"
  }
 },
 "nbformat": 4,
 "nbformat_minor": 0
}