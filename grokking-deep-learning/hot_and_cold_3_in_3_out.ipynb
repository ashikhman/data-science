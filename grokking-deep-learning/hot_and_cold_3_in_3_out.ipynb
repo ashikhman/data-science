{
 "cells": [
  {
   "cell_type": "code",
   "execution_count": 27,
   "metadata": {
    "collapsed": true
   },
   "outputs": [
    {
     "name": "stdout",
     "output_type": "stream",
     "text": [
      "0 Error:  [2.07025e-01 4.00000e-04 7.48225e-01] Delta:  [ 0.455 -0.02   0.865]\n"
     ]
    },
    {
     "ename": "ValueError",
     "evalue": "The truth value of an array with more than one element is ambiguous. Use a.any() or a.all()",
     "output_type": "error",
     "traceback": [
      "\u001B[0;31m---------------------------------------------------------------------------\u001B[0m",
      "\u001B[0;31mValueError\u001B[0m                                Traceback (most recent call last)",
      "\u001B[0;32m<ipython-input-27-d36633d039ce>\u001B[0m in \u001B[0;36m<module>\u001B[0;34m\u001B[0m\n\u001B[1;32m     38\u001B[0m     \u001B[0merror_down\u001B[0m \u001B[0;34m=\u001B[0m \u001B[0;34m(\u001B[0m\u001B[0mpred_down\u001B[0m \u001B[0;34m-\u001B[0m \u001B[0mgoal\u001B[0m\u001B[0;34m)\u001B[0m \u001B[0;34m**\u001B[0m \u001B[0;36m2\u001B[0m\u001B[0;34m\u001B[0m\u001B[0;34m\u001B[0m\u001B[0m\n\u001B[1;32m     39\u001B[0m \u001B[0;34m\u001B[0m\u001B[0m\n\u001B[0;32m---> 40\u001B[0;31m     \u001B[0;32mif\u001B[0m \u001B[0merror\u001B[0m \u001B[0;34m>\u001B[0m \u001B[0merror_up\u001B[0m \u001B[0;32mor\u001B[0m \u001B[0merror\u001B[0m \u001B[0;34m>\u001B[0m \u001B[0merror_down\u001B[0m\u001B[0;34m:\u001B[0m\u001B[0;34m\u001B[0m\u001B[0;34m\u001B[0m\u001B[0m\n\u001B[0m\u001B[1;32m     41\u001B[0m         \u001B[0;32mif\u001B[0m \u001B[0merror_up\u001B[0m \u001B[0;34m<=\u001B[0m \u001B[0merror_down\u001B[0m\u001B[0;34m:\u001B[0m\u001B[0;34m\u001B[0m\u001B[0;34m\u001B[0m\u001B[0m\n\u001B[1;32m     42\u001B[0m             \u001B[0mweights\u001B[0m \u001B[0;34m+=\u001B[0m \u001B[0mlr\u001B[0m\u001B[0;34m\u001B[0m\u001B[0;34m\u001B[0m\u001B[0m\n",
      "\u001B[0;31mValueError\u001B[0m: The truth value of an array with more than one element is ambiguous. Use a.any() or a.all()"
     ]
    }
   ],
   "source": [
    "import numpy as np\n",
    "\n",
    "weights = np.array([\n",
    "    # toes, wlrec, nfans\n",
    "    [0.1, 0.1, -0.3], # hurt?\n",
    "    [0.1, 0.2, 0.0], # win?\n",
    "    [0.0, 1.3, 0.1] # sad?\n",
    "])\n",
    "\n",
    "# toes, wlrc, nfans\n",
    "input = np.array([8.5, 0.65, 1.2])\n",
    "\n",
    "pred = np.array([0.555, 0.98, 0.965])\n",
    "\n",
    "# hurt? win? sad?\n",
    "goal = np.array([0.1, 1, 0.1])\n",
    "\n",
    "\n",
    "def neural_network(input, weights):\n",
    "    pred = weights.dot(input)\n",
    "\n",
    "    return pred\n",
    "\n",
    "def calc_new_weights(input, delta):\n",
    "    out = np.zeros((len(input), len(delta)))\n",
    "\n",
    "    for i in range(len(input)):\n",
    "        for j in range(len(delta)):\n",
    "            out[i][j] = input[i] * delta[j]\n",
    "\n",
    "    return\n",
    "\n",
    "for i in range(4):\n",
    "    pred = neural_network(input, weights)\n",
    "\n",
    "    error = (pred - goal) ** 2\n",
    "    delta = pred - goal\n",
    "    print(i, \"Error: \", error, \"Delta: \", delta)\n",
    "\n",
    "    lr = 0.1\n",
    "    pred_up = neural_network(input, weights + lr)\n",
    "    pred_down = neural_network(input, weights - lr)\n",
    "\n",
    "    error_up = (pred_up - goal) ** 2\n",
    "    error_down = (pred_down - goal) ** 2\n",
    "\n",
    "    if error > error_up or error > error_down:\n",
    "        if error_up <= error_down:\n",
    "            weights += lr\n",
    "        elif error_down < error_up:\n",
    "            weights -= lr"
   ]
  }
 ],
 "metadata": {
  "kernelspec": {
   "display_name": "Python 3",
   "language": "python",
   "name": "python3"
  },
  "language_info": {
   "codemirror_mode": {
    "name": "ipython",
    "version": 2
   },
   "file_extension": ".py",
   "mimetype": "text/x-python",
   "name": "python",
   "nbconvert_exporter": "python",
   "pygments_lexer": "ipython2",
   "version": "2.7.6"
  }
 },
 "nbformat": 4,
 "nbformat_minor": 0
}