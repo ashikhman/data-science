{
 "cells": [
  {
   "cell_type": "code",
   "execution_count": 13,
   "metadata": {
    "collapsed": true
   },
   "outputs": [],
   "source": [
    "def w_sum(a, b):\n",
    "    assert(len(a) == len(b))\n",
    "\n",
    "    output = 0.0\n",
    "    for i in range(len(a)):\n",
    "        output += (a[i] * b[i])\n",
    "\n",
    "    return output\n",
    "\n",
    "def vect_mat_mul(vector, matrix):\n",
    "    output = [0, 0, 0]\n",
    "\n",
    "    for i in range(len(vector)):\n",
    "        output[i] += w_sum(vector, matrix[i])\n",
    "\n",
    "    return output\n",
    "\n",
    "def neural_network(input, weights):\n",
    "    pred = vect_mat_mul(input, weights)\n",
    "\n",
    "    return pred"
   ]
  },
  {
   "cell_type": "code",
   "execution_count": 30,
   "outputs": [
    {
     "data": {
      "text/plain": "[0.555, 0.9800000000000001, 0.9650000000000001]"
     },
     "execution_count": 30,
     "metadata": {},
     "output_type": "execute_result"
    }
   ],
   "source": [
    "weights = [\n",
    "    [0.1, 0.1, -0.3],\n",
    "    [0.1, 0.2, 0.0],\n",
    "    [0.0, 1.3, 0.1]\n",
    "]\n",
    "\n",
    "input = [8.5, 0.65, 1.2]\n",
    "pred = neural_network(input, weights)\n",
    "\n",
    "pred\n"
   ],
   "metadata": {
    "collapsed": false,
    "pycharm": {
     "name": "#%%\n"
    }
   }
  }
 ],
 "metadata": {
  "kernelspec": {
   "display_name": "Python 3",
   "language": "python",
   "name": "python3"
  },
  "language_info": {
   "codemirror_mode": {
    "name": "ipython",
    "version": 2
   },
   "file_extension": ".py",
   "mimetype": "text/x-python",
   "name": "python",
   "nbconvert_exporter": "python",
   "pygments_lexer": "ipython2",
   "version": "2.7.6"
  }
 },
 "nbformat": 4,
 "nbformat_minor": 0
}