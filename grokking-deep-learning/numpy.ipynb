{
 "cells": [
  {
   "cell_type": "code",
   "execution_count": 1,
   "metadata": {
    "collapsed": true
   },
   "outputs": [],
   "source": [
    "import numpy as np"
   ]
  },
  {
   "cell_type": "code",
   "execution_count": 31,
   "outputs": [
    {
     "name": "stdout",
     "output_type": "stream",
     "text": [
      "[1 5 2]\n",
      "[10 10 10]\n",
      "[[1 2 5]\n",
      " [5 2 1]]\n",
      "[2 6 3]\n",
      "[0 4 1]\n",
      "[ 2 10  4]\n",
      "[0.5 2.5 1. ]\n",
      "[10 50 20]\n",
      "[[ 1 10 10]\n",
      " [ 5 10  2]]\n",
      "c * 2 =  [[ 2  4 10]\n",
      " [10  4  2]]\n"
     ]
    }
   ],
   "source": [
    "# vector\n",
    "a = np.array([1, 5, 2])\n",
    "b = np.array([10, 10, 10])\n",
    "# matrix\n",
    "c = np.array([[1, 2, 5], [5, 2, 1]])\n",
    "\n",
    "print(a)\n",
    "print(b)\n",
    "print(c)\n",
    "\n",
    "# Add value to every element of vector\n",
    "print(a + 1)\n",
    "# Subtract value from every element of vector\n",
    "print(a - 1)\n",
    "\n",
    "# Multiply every element\n",
    "print(a * 2)\n",
    "# Divide every element\n",
    "print(a / 2)\n",
    "\n",
    "# Multiply elementwise\n",
    "print(a * b)\n",
    "\n",
    "# Multiply elementwise matrix\n",
    "print(a * c)\n",
    "\n",
    "# Matrix multiplication\n",
    "print(\"c * 2 = \", c * 2)"
   ],
   "metadata": {
    "collapsed": false,
    "pycharm": {
     "name": "#%%\n"
    }
   }
  },
  {
   "cell_type": "code",
   "execution_count": 16,
   "outputs": [
    {
     "data": {
      "text/plain": "array([[0., 0., 0., 0.],\n       [0., 0., 0., 0.]])"
     },
     "execution_count": 16,
     "metadata": {},
     "output_type": "execute_result"
    }
   ],
   "source": [
    "# 2x4 (2 rows 4 columns) matrix of zeros\n",
    "np.zeros((2, 4))"
   ],
   "metadata": {
    "collapsed": false,
    "pycharm": {
     "name": "#%%\n"
    }
   }
  },
  {
   "cell_type": "code",
   "execution_count": 10,
   "outputs": [
    {
     "data": {
      "text/plain": "array([[0.13644732, 0.08654052, 0.04459521, 0.34541024],\n       [0.74062298, 0.7495844 , 0.53883939, 0.89250857]])"
     },
     "execution_count": 10,
     "metadata": {},
     "output_type": "execute_result"
    }
   ],
   "source": [
    "# 2x4 (2 rows 4 columns) matrix of random value between 0 and 1\n",
    "np.random.rand(2, 4)"
   ],
   "metadata": {
    "collapsed": false,
    "pycharm": {
     "name": "#%%\n"
    }
   }
  },
  {
   "cell_type": "code",
   "execution_count": 37,
   "outputs": [
    {
     "name": "stdout",
     "output_type": "stream",
     "text": [
      "[[0. 0. 0.]]\n"
     ]
    }
   ],
   "source": [
    "a = np.zeros((1, 4))\n",
    "b = np.zeros((4, 3))\n",
    "\n",
    "c = a.dot(b)\n",
    "print(c)"
   ],
   "metadata": {
    "collapsed": false,
    "pycharm": {
     "name": "#%%\n"
    }
   }
  },
  {
   "cell_type": "code",
   "execution_count": 52,
   "outputs": [
    {
     "name": "stdout",
     "output_type": "stream",
     "text": [
      "[[10.  5.]\n",
      " [ 0.  0.]]\n"
     ]
    }
   ],
   "source": [
    "a = np.zeros((2, 4))\n",
    "a[0][0] = 5\n",
    "b = np.zeros((4, 2))\n",
    "b[0][0] = 2\n",
    "b[0][1] = 1\n",
    "c = a.dot(b)\n",
    "print(c)"
   ],
   "metadata": {
    "collapsed": false,
    "pycharm": {
     "name": "#%%\n"
    }
   }
  },
  {
   "cell_type": "code",
   "execution_count": 56,
   "outputs": [
    {
     "name": "stdout",
     "output_type": "stream",
     "text": [
      "[[0.]]\n"
     ]
    }
   ],
   "source": [
    "a = np.zeros((1, 2))\n",
    "b = np.zeros((2, 1))\n",
    "c = a.dot(b)\n",
    "print(c)"
   ],
   "metadata": {
    "collapsed": false,
    "pycharm": {
     "name": "#%%\n"
    }
   }
  },
  {
   "cell_type": "code",
   "execution_count": 59,
   "outputs": [
    {
     "name": "stdout",
     "output_type": "stream",
     "text": [
      "[[0. 0. 0. 0. 0. 0.]\n",
      " [0. 0. 0. 0. 0. 0.]\n",
      " [0. 0. 0. 0. 0. 0.]\n",
      " [0. 0. 0. 0. 0. 0.]]\n"
     ]
    }
   ],
   "source": [
    "a = np.zeros((5, 4)).T\n",
    "b = np.zeros((5, 6))\n",
    "c = a.dot(b)\n",
    "print(c)"
   ],
   "metadata": {
    "collapsed": false,
    "pycharm": {
     "name": "#%%\n"
    }
   }
  }
 ],
 "metadata": {
  "kernelspec": {
   "display_name": "Python 3",
   "language": "python",
   "name": "python3"
  },
  "language_info": {
   "codemirror_mode": {
    "name": "ipython",
    "version": 2
   },
   "file_extension": ".py",
   "mimetype": "text/x-python",
   "name": "python",
   "nbconvert_exporter": "python",
   "pygments_lexer": "ipython2",
   "version": "2.7.6"
  }
 },
 "nbformat": 4,
 "nbformat_minor": 0
}